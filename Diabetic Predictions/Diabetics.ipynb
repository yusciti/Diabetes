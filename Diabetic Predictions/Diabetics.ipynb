{
 "cells": [
  {
   "cell_type": "markdown",
   "id": "b29e4cda",
   "metadata": {},
   "source": [
    "### Introduction\n",
    "This data consists of diagnostic information about some patients who have been tested for diabetes.\n",
    " Scroll to the right if necessary, and note that the final column in the dataset (Diabetic) contains the value 0 for patients who tested negative for diabetes,\n",
    " and 1 for patients who tested positive. This is the label that we will train our model to predict; \n",
    " most of the other columns (Pregnancies,PlasmaGlucose,DiastolicBloodPressure, and so on) are the features we will use to predict the Diabetic label. I downloaded the dataset from kaggle\n",
    "\n",
    "Let's separate the features from the labels - we'll call the features X and the label y:"
   ]
  },
  {
   "cell_type": "code",
   "execution_count": 1,
   "id": "a39965f2",
   "metadata": {},
   "outputs": [],
   "source": [
    "#import libraries\n",
    "import pandas as pd\n",
    "import numpy as np\n",
    "import matplotlib.pyplot as plt\n",
    "%matplotlib inline"
   ]
  },
  {
   "cell_type": "code",
   "execution_count": 2,
   "id": "f5945636",
   "metadata": {},
   "outputs": [
    {
     "data": {
      "text/html": [
       "<div>\n",
       "<style scoped>\n",
       "    .dataframe tbody tr th:only-of-type {\n",
       "        vertical-align: middle;\n",
       "    }\n",
       "\n",
       "    .dataframe tbody tr th {\n",
       "        vertical-align: top;\n",
       "    }\n",
       "\n",
       "    .dataframe thead th {\n",
       "        text-align: right;\n",
       "    }\n",
       "</style>\n",
       "<table border=\"1\" class=\"dataframe\">\n",
       "  <thead>\n",
       "    <tr style=\"text-align: right;\">\n",
       "      <th></th>\n",
       "      <th>PatientID</th>\n",
       "      <th>Pregnancies</th>\n",
       "      <th>PlasmaGlucose</th>\n",
       "      <th>DiastolicBloodPressure</th>\n",
       "      <th>TricepsThickness</th>\n",
       "      <th>SerumInsulin</th>\n",
       "      <th>BMI</th>\n",
       "      <th>DiabetesPedigree</th>\n",
       "      <th>Age</th>\n",
       "      <th>Diabetic</th>\n",
       "    </tr>\n",
       "  </thead>\n",
       "  <tbody>\n",
       "    <tr>\n",
       "      <th>0</th>\n",
       "      <td>1354778</td>\n",
       "      <td>0</td>\n",
       "      <td>171</td>\n",
       "      <td>80</td>\n",
       "      <td>34</td>\n",
       "      <td>23</td>\n",
       "      <td>43.509726</td>\n",
       "      <td>1.213191</td>\n",
       "      <td>21</td>\n",
       "      <td>0</td>\n",
       "    </tr>\n",
       "    <tr>\n",
       "      <th>1</th>\n",
       "      <td>1147438</td>\n",
       "      <td>8</td>\n",
       "      <td>92</td>\n",
       "      <td>93</td>\n",
       "      <td>47</td>\n",
       "      <td>36</td>\n",
       "      <td>21.240576</td>\n",
       "      <td>0.158365</td>\n",
       "      <td>23</td>\n",
       "      <td>0</td>\n",
       "    </tr>\n",
       "    <tr>\n",
       "      <th>2</th>\n",
       "      <td>1640031</td>\n",
       "      <td>7</td>\n",
       "      <td>115</td>\n",
       "      <td>47</td>\n",
       "      <td>52</td>\n",
       "      <td>35</td>\n",
       "      <td>41.511523</td>\n",
       "      <td>0.079019</td>\n",
       "      <td>23</td>\n",
       "      <td>0</td>\n",
       "    </tr>\n",
       "    <tr>\n",
       "      <th>3</th>\n",
       "      <td>1883350</td>\n",
       "      <td>9</td>\n",
       "      <td>103</td>\n",
       "      <td>78</td>\n",
       "      <td>25</td>\n",
       "      <td>304</td>\n",
       "      <td>29.582192</td>\n",
       "      <td>1.282870</td>\n",
       "      <td>43</td>\n",
       "      <td>1</td>\n",
       "    </tr>\n",
       "    <tr>\n",
       "      <th>4</th>\n",
       "      <td>1424119</td>\n",
       "      <td>1</td>\n",
       "      <td>85</td>\n",
       "      <td>59</td>\n",
       "      <td>27</td>\n",
       "      <td>35</td>\n",
       "      <td>42.604536</td>\n",
       "      <td>0.549542</td>\n",
       "      <td>22</td>\n",
       "      <td>0</td>\n",
       "    </tr>\n",
       "  </tbody>\n",
       "</table>\n",
       "</div>"
      ],
      "text/plain": [
       "   PatientID  Pregnancies  PlasmaGlucose  DiastolicBloodPressure  \\\n",
       "0    1354778            0            171                      80   \n",
       "1    1147438            8             92                      93   \n",
       "2    1640031            7            115                      47   \n",
       "3    1883350            9            103                      78   \n",
       "4    1424119            1             85                      59   \n",
       "\n",
       "   TricepsThickness  SerumInsulin        BMI  DiabetesPedigree  Age  Diabetic  \n",
       "0                34            23  43.509726          1.213191   21         0  \n",
       "1                47            36  21.240576          0.158365   23         0  \n",
       "2                52            35  41.511523          0.079019   23         0  \n",
       "3                25           304  29.582192          1.282870   43         1  \n",
       "4                27            35  42.604536          0.549542   22         0  "
      ]
     },
     "execution_count": 2,
     "metadata": {},
     "output_type": "execute_result"
    }
   ],
   "source": [
    "#load the dataset\n",
    "df = pd.read_csv('diabetes.csv')\n",
    "df.head()"
   ]
  },
  {
   "cell_type": "code",
   "execution_count": 3,
   "id": "3f3ff10e",
   "metadata": {},
   "outputs": [
    {
     "data": {
      "text/plain": [
       "PatientID                 0\n",
       "Pregnancies               0\n",
       "PlasmaGlucose             0\n",
       "DiastolicBloodPressure    0\n",
       "TricepsThickness          0\n",
       "SerumInsulin              0\n",
       "BMI                       0\n",
       "DiabetesPedigree          0\n",
       "Age                       0\n",
       "Diabetic                  0\n",
       "dtype: int64"
      ]
     },
     "execution_count": 3,
     "metadata": {},
     "output_type": "execute_result"
    }
   ],
   "source": [
    "#check for null values\n",
    "df.isnull().sum()"
   ]
  },
  {
   "cell_type": "code",
   "execution_count": 4,
   "id": "0f897fb1",
   "metadata": {},
   "outputs": [
    {
     "data": {
      "text/plain": [
       "41"
      ]
     },
     "execution_count": 4,
     "metadata": {},
     "output_type": "execute_result"
    }
   ],
   "source": [
    "#check for duplication\n",
    "df['PatientID'].duplicated().sum()"
   ]
  },
  {
   "cell_type": "code",
   "execution_count": 5,
   "id": "f2ad3dc1",
   "metadata": {},
   "outputs": [
    {
     "data": {
      "text/plain": [
       "(10000, 10)"
      ]
     },
     "execution_count": 5,
     "metadata": {},
     "output_type": "execute_result"
    }
   ],
   "source": [
    "#get the shape of the data\n",
    "df.shape"
   ]
  },
  {
   "cell_type": "code",
   "execution_count": 6,
   "id": "8250f03e",
   "metadata": {},
   "outputs": [],
   "source": [
    "#define features and labels\n",
    "feature = ['Pregnancies', 'PlasmaGlucose','DiastolicBloodPressure', 'TricepsThickness','SerumInsulin', 'BMI', 'DiabetesPedigree',\n",
    "          'Age']\n",
    "label = 'Diabetic'"
   ]
  },
  {
   "cell_type": "code",
   "execution_count": 7,
   "id": "08dd3b3e",
   "metadata": {},
   "outputs": [],
   "source": [
    "#define X,y variable\n",
    "X,y = df[feature].values,df[label].values"
   ]
  },
  {
   "cell_type": "code",
   "execution_count": 8,
   "id": "4f8f7309",
   "metadata": {},
   "outputs": [
    {
     "name": "stdout",
     "output_type": "stream",
     "text": [
      "Patient 1 \n",
      " Features: [0.0, 171.0, 80.0, 34.0, 23.0, 43.50972593, 1.213191354, 21.0] \n",
      " Labels: 0\n",
      "Patient 2 \n",
      " Features: [8.0, 92.0, 93.0, 47.0, 36.0, 21.24057571, 0.158364981, 23.0] \n",
      " Labels: 0\n",
      "Patient 3 \n",
      " Features: [7.0, 115.0, 47.0, 52.0, 35.0, 41.51152348, 0.079018568, 23.0] \n",
      " Labels: 0\n",
      "Patient 4 \n",
      " Features: [9.0, 103.0, 78.0, 25.0, 304.0, 29.58219193, 1.282869847, 43.0] \n",
      " Labels: 1\n",
      "Patient 5 \n",
      " Features: [1.0, 85.0, 59.0, 27.0, 35.0, 42.60453585, 0.549541871, 22.0] \n",
      " Labels: 0\n"
     ]
    }
   ],
   "source": [
    "#lets print the features against the labels\n",
    "for n in range(0,5):\n",
    "    print('Patient', str(n+1),'\\n Features:',list(X[n]), '\\n Labels:',y[n])\n",
    "    "
   ]
  },
  {
   "cell_type": "code",
   "execution_count": 9,
   "id": "ddd3aed5",
   "metadata": {},
   "outputs": [
    {
     "data": {
      "image/png": "[encoded data removed]",
      "text/plain": [
       "<Figure size 432x432 with 1 Axes>"
      ]
     },
     "metadata": {
      "needs_background": "light"
     },
     "output_type": "display_data"
    },
    {
     "data": {
      "image/png": "[encoded data removed]",
      "text/plain": [
       "<Figure size 432x432 with 1 Axes>"
      ]
     },
     "metadata": {
      "needs_background": "light"
     },
     "output_type": "display_data"
    },
    {
     "data": {
      "image/png": "[encoded data removed]",
      "text/plain": [
       "<Figure size 432x432 with 1 Axes>"
      ]
     },
     "metadata": {
      "needs_background": "light"
     },
     "output_type": "display_data"
    },
    {
     "data": {
      "image/png": "[encoded data removed]",
      "text/plain": [
       "<Figure size 432x432 with 1 Axes>"
      ]
     },
     "metadata": {
      "needs_background": "light"
     },
     "output_type": "display_data"
    },
    {
     "data": {
      "image/png": "[encoded data removed]",
      "text/plain": [
       "<Figure size 432x432 with 1 Axes>"
      ]
     },
     "metadata": {
      "needs_background": "light"
     },
     "output_type": "display_data"
    },
    {
     "data": {
      "image/png": "[encoded data removed]",
      "text/plain": [
       "<Figure size 432x432 with 1 Axes>"
      ]
     },
     "metadata": {
      "needs_background": "light"
     },
     "output_type": "display_data"
    },
    {
     "data": {
      "image/png": "[encoded data removed]",
      "text/plain": [
       "<Figure size 432x432 with 1 Axes>"
      ]
     },
     "metadata": {
      "needs_background": "light"
     },
     "output_type": "display_data"
    },
    {
     "data": {
      "image/png": "[encoded data removed]",
      "text/plain": [
       "<Figure size 432x432 with 1 Axes>"
      ]
     },
     "metadata": {
      "needs_background": "light"
     },
     "output_type": "display_data"
    }
   ],
   "source": [
    "#Now let's compare the feature distributions for each label value.\n",
    "features = ['Pregnancies', 'PlasmaGlucose','DiastolicBloodPressure', 'TricepsThickness','SerumInsulin', 'BMI', 'DiabetesPedigree',\n",
    "          'Age']\n",
    "for i in features:\n",
    "    df.boxplot(column=i, by ='Diabetic', figsize=(6,6))\n",
    "    plt.title(i)\n",
    "    plt.show()"
   ]
  },
  {
   "cell_type": "markdown",
   "id": "64ac3a7a",
   "metadata": {},
   "source": [
    "For some of the features, there's a noticeable difference in the distribution for each label value. In particular, \n",
    "Pregnancies and Age show markedly different distributions for diabetic patients than for non-diabetic patients. These features may help predict whether or not a patient is diabetic."
   ]
  },
  {
   "cell_type": "code",
   "execution_count": 18,
   "id": "61485e0f",
   "metadata": {},
   "outputs": [],
   "source": [
    "#split the data into training abd testing set\n",
    "from sklearn.model_selection import train_test_split\n",
    "X_train, X_test, y_train, y_test = train_test_split(X,y, test_size = 0.30, random_state = 42)"
   ]
  },
  {
   "cell_type": "code",
   "execution_count": 19,
   "id": "dd2349fe",
   "metadata": {},
   "outputs": [
    {
     "name": "stdout",
     "output_type": "stream",
     "text": [
      "Training set 7000 \n",
      "Testing set 3000\n"
     ]
    }
   ],
   "source": [
    "#print out the training & testing set shape\n",
    "print('Training set',X_train.shape[0], '\\nTesting set',X_test.shape[0])"
   ]
  },
  {
   "cell_type": "code",
   "execution_count": 20,
   "id": "69bd00f9",
   "metadata": {},
   "outputs": [],
   "source": [
    "#import LogisticRegressionLiberaries\n",
    "from sklearn.linear_model import LogisticRegression\n",
    "reg = 0.01"
   ]
  },
  {
   "cell_type": "code",
   "execution_count": 21,
   "id": "94ec136c",
   "metadata": {},
   "outputs": [],
   "source": [
    "#define the model\n",
    "model = LogisticRegression(C=1/reg, solver = 'liblinear').fit(X_train, y_train)"
   ]
  },
  {
   "cell_type": "code",
   "execution_count": 22,
   "id": "58986b10",
   "metadata": {},
   "outputs": [],
   "source": [
    "#predict the model\n",
    "prediction = model.predict(X_test)"
   ]
  },
  {
   "cell_type": "code",
   "execution_count": 23,
   "id": "b133fad7",
   "metadata": {},
   "outputs": [
    {
     "name": "stdout",
     "output_type": "stream",
     "text": [
      "prediction: [0 1 0 1 1 1 0 0 0 0]\n",
      "Actual:     [0 1 0 1 0 0 0 0 0 0]\n"
     ]
    }
   ],
   "source": [
    "#print prediciton against actual\n",
    "print('prediction:',y_test[:10])\n",
    "print('Actual:    ',prediction[:10])"
   ]
  },
  {
   "cell_type": "code",
   "execution_count": 24,
   "id": "3d864741",
   "metadata": {},
   "outputs": [
    {
     "name": "stdout",
     "output_type": "stream",
     "text": [
      "0.7953333333333333\n"
     ]
    }
   ],
   "source": [
    "#print accuracy\n",
    "from sklearn.metrics import accuracy_score, classification_report, confusion_matrix, roc_curve,  roc_auc_score, precision_score, recall_score\n",
    "ac = accuracy_score(prediction, y_test)\n",
    "print(ac)"
   ]
  },
  {
   "cell_type": "code",
   "execution_count": 26,
   "id": "e654fa3d",
   "metadata": {},
   "outputs": [
    {
     "name": "stdout",
     "output_type": "stream",
     "text": [
      "              precision    recall  f1-score   support\n",
      "\n",
      "           0       0.89      0.82      0.86      2205\n",
      "           1       0.59      0.72      0.65       795\n",
      "\n",
      "    accuracy                           0.80      3000\n",
      "   macro avg       0.74      0.77      0.75      3000\n",
      "weighted avg       0.81      0.80      0.80      3000\n",
      "\n"
     ]
    }
   ],
   "source": [
    "#print classification report\n",
    "cr = classification_report(prediction, y_test)\n",
    "print(cr)"
   ]
  },
  {
   "cell_type": "code",
   "execution_count": 27,
   "id": "048cdbcb",
   "metadata": {},
   "outputs": [
    {
     "name": "stdout",
     "output_type": "stream",
     "text": [
      "[[1814  391]\n",
      " [ 223  572]]\n"
     ]
    }
   ],
   "source": [
    "#print confusion matrix\n",
    "cm = confusion_matrix(prediction, y_test)\n",
    "print(cm)"
   ]
  },
  {
   "cell_type": "code",
   "execution_count": 28,
   "id": "87a6e4bd",
   "metadata": {},
   "outputs": [
    {
     "name": "stdout",
     "output_type": "stream",
     "text": [
      "[[0.69818305 0.30181695]\n",
      " [0.35501211 0.64498789]\n",
      " [0.65200369 0.34799631]\n",
      " ...\n",
      " [0.77447841 0.22552159]\n",
      " [0.85647622 0.14352378]\n",
      " [0.18009138 0.81990862]]\n"
     ]
    }
   ],
   "source": [
    "#Print probability score\n",
    "y_score = model.predict_proba(X_test)\n",
    "print(y_score)"
   ]
  },
  {
   "cell_type": "code",
   "execution_count": 29,
   "id": "083e854f",
   "metadata": {},
   "outputs": [
    {
     "data": {
      "image/png": "[encoded data removed]",
      "text/plain": [
       "<Figure size 432x432 with 1 Axes>"
      ]
     },
     "metadata": {
      "needs_background": "light"
     },
     "output_type": "display_data"
    }
   ],
   "source": [
    "#Visualize the ROC\n",
    "fpr, tpr , threshold = roc_curve(y_test, y_score[:,1])\n",
    "\n",
    "# plot ROC curve\n",
    "fig = plt.figure(figsize=(6, 6))\n",
    "# Plot the diagonal 50% line\n",
    "plt.plot([0, 1], [0, 1], 'k--')\n",
    "# Plot the FPR and TPR achieved by our model\n",
    "plt.plot(fpr, tpr)\n",
    "plt.xlabel('False Positive Rate')\n",
    "plt.ylabel('True Positive Rate')\n",
    "plt.title('ROC Curve')\n",
    "plt.show()"
   ]
  },
  {
   "cell_type": "code",
   "execution_count": 30,
   "id": "1953cfef",
   "metadata": {},
   "outputs": [
    {
     "name": "stdout",
     "output_type": "stream",
     "text": [
      "AUC: 0.857526721386438\n"
     ]
    }
   ],
   "source": [
    "#print AUC\n",
    "auc = roc_auc_score(y_test, y_score[:,1])\n",
    "print('AUC:', auc)"
   ]
  },
  {
   "cell_type": "markdown",
   "id": "d1ed3fef",
   "metadata": {},
   "source": [
    "### Scalling\n",
    "Scaling numeric features so they're on the same scale. This prevents features with large values from producing coefficients that \n",
    "disproportionately affect the predictions.\n",
    "Encoding categorical variables. For example, by using a one hot encoding technique you can create individual binary (true/false) features for \n",
    "each possible category value.\n",
    "To apply these preprocessing transformations, we'll make use of a Scikit-Learn feature named pipelines. \n",
    "These enable us to define a set of preprocessing steps that end with an algorithm. \n",
    "You can then fit the entire pipeline to the data, so that the model encapsulates all of the preprocessing steps as well as the regression algorithm. \n",
    "This is useful, because when we want to use the model to predict values from new data,\n",
    " we need to apply the same transformations (based on the same statistical distributions and category encodings used with the training data)."
   ]
  },
  {
   "cell_type": "code",
   "execution_count": 31,
   "id": "7cb46796",
   "metadata": {},
   "outputs": [
    {
     "name": "stdout",
     "output_type": "stream",
     "text": [
      "['PatientID', 'Pregnancies', 'PlasmaGlucose', 'DiastolicBloodPressure', 'TricepsThickness', 'SerumInsulin', 'BMI', 'DiabetesPedigree', 'Age', 'Diabetic']\n"
     ]
    }
   ],
   "source": [
    "print(list(df))\n",
    "\n",
    "# Define preprocessing for numeric columns (normalize them so they're on the same scale)\n",
    "num_fea = [0,1,2,3,4,5,6]\n",
    "# Define preprocessing for categorical features (encode the Age column)\n",
    "cat_fea = [7]"
   ]
  },
  {
   "cell_type": "code",
   "execution_count": 32,
   "id": "86de7154",
   "metadata": {},
   "outputs": [],
   "source": [
    "from sklearn.pipeline import Pipeline\n",
    "from sklearn.preprocessing import StandardScaler, OneHotEncoder\n",
    "numeric_trans4 = Pipeline(\n",
    "steps =[\n",
    "    ('scaler',StandardScaler())\n",
    "])\n",
    "    \n",
    "cat_trans4 = Pipeline(\n",
    "steps = [\n",
    "    ('onehot', OneHotEncoder(handle_unknown= 'ignore'))\n",
    "]\n",
    ")"
   ]
  },
  {
   "cell_type": "code",
   "execution_count": 33,
   "id": "77cec960",
   "metadata": {},
   "outputs": [],
   "source": [
    "# Combine preprocessing steps\n",
    "from sklearn.compose import ColumnTransformer\n",
    "processor = ColumnTransformer(transformers = [\n",
    "    ('num', numeric_trans4,num_fea),\n",
    "    ('cat',  cat_trans4, cat_fea,)\n",
    "])"
   ]
  },
  {
   "cell_type": "code",
   "execution_count": 34,
   "id": "6baf15f3",
   "metadata": {},
   "outputs": [],
   "source": [
    "## Create preprocessing and training pipeline\n",
    "pipeline = Pipeline(steps = [\n",
    "    ('processor', processor),\n",
    "    ('logregressor', LogisticRegression(C=1/reg, solver = 'liblinear'))\n",
    "])"
   ]
  },
  {
   "cell_type": "code",
   "execution_count": 35,
   "id": "a4e69533",
   "metadata": {},
   "outputs": [
    {
     "name": "stdout",
     "output_type": "stream",
     "text": [
      "Pipeline(steps=[('processor',\n",
      "                 ColumnTransformer(transformers=[('num',\n",
      "                                                  Pipeline(steps=[('scaler',\n",
      "                                                                   StandardScaler())]),\n",
      "                                                  [0, 1, 2, 3, 4, 5, 6]),\n",
      "                                                 ('cat',\n",
      "                                                  Pipeline(steps=[('onehot',\n",
      "                                                                   OneHotEncoder(handle_unknown='ignore'))]),\n",
      "                                                  [7])])),\n",
      "                ('logregressor',\n",
      "                 LogisticRegression(C=100.0, solver='liblinear'))])\n"
     ]
    }
   ],
   "source": [
    "# fit the pipeline to train a logistic regression model on the training set\n",
    "model = pipeline.fit(X_train,(y_train))\n",
    "print(model)\n",
    "prediction = model.predict(X_test)"
   ]
  },
  {
   "cell_type": "code",
   "execution_count": 36,
   "id": "46d2cee0",
   "metadata": {},
   "outputs": [
    {
     "name": "stdout",
     "output_type": "stream",
     "text": [
      "Predictions [1 1 0 1 0 0 0 0 0 0 0 0 0 0 1 0 1 1 0 1]\n",
      "Actual      [0 1 0 1 1 1 0 0 0 0 0 0 0 0 1 0 1 1 0 1]\n"
     ]
    }
   ],
   "source": [
    "#print predictions\n",
    "print('Predictions', prediction[:20])\n",
    "print('Actual     ', y_test[:20])"
   ]
  },
  {
   "cell_type": "code",
   "execution_count": 37,
   "id": "3cdee47d",
   "metadata": {},
   "outputs": [
    {
     "name": "stdout",
     "output_type": "stream",
     "text": [
      "0.8456666666666667\n"
     ]
    }
   ],
   "source": [
    "#check accuracy\n",
    "ac = accuracy_score( y_test,prediction)\n",
    "print(ac)"
   ]
  },
  {
   "cell_type": "code",
   "execution_count": 38,
   "id": "a22db950",
   "metadata": {},
   "outputs": [
    {
     "name": "stdout",
     "output_type": "stream",
     "text": [
      "[[1836  201]\n",
      " [ 262  701]]\n"
     ]
    }
   ],
   "source": [
    "#check confusion matrix\n",
    "cm = confusion_matrix(y_test, prediction)\n",
    "print(cm)"
   ]
  },
  {
   "cell_type": "code",
   "execution_count": 39,
   "id": "d9a46608",
   "metadata": {},
   "outputs": [
    {
     "name": "stdout",
     "output_type": "stream",
     "text": [
      "              precision    recall  f1-score   support\n",
      "\n",
      "           0       0.88      0.90      0.89      2037\n",
      "           1       0.78      0.73      0.75       963\n",
      "\n",
      "    accuracy                           0.85      3000\n",
      "   macro avg       0.83      0.81      0.82      3000\n",
      "weighted avg       0.84      0.85      0.84      3000\n",
      "\n"
     ]
    }
   ],
   "source": [
    "#check the classification report\n",
    "cr = classification_report(y_test,prediction)\n",
    "print(cr)"
   ]
  },
  {
   "cell_type": "code",
   "execution_count": 40,
   "id": "cc9644f6",
   "metadata": {},
   "outputs": [
    {
     "name": "stdout",
     "output_type": "stream",
     "text": [
      "[[2.84043865e-01 7.15956135e-01]\n",
      " [1.19938900e-01 8.80061100e-01]\n",
      " [7.46611962e-01 2.53388038e-01]\n",
      " ...\n",
      " [6.37677626e-01 3.62322374e-01]\n",
      " [9.99926309e-01 7.36908074e-05]\n",
      " [2.27234175e-01 7.72765825e-01]]\n"
     ]
    }
   ],
   "source": [
    "y_score = model.predict_proba(X_test)\n",
    "print(y_score)"
   ]
  },
  {
   "cell_type": "code",
   "execution_count": 41,
   "id": "e863603e",
   "metadata": {},
   "outputs": [
    {
     "data": {
      "image/png": "[encoded data removed]",
      "text/plain": [
       "<Figure size 432x432 with 1 Axes>"
      ]
     },
     "metadata": {
      "needs_background": "light"
     },
     "output_type": "display_data"
    }
   ],
   "source": [
    "fpr, tpr , threshold = roc_curve(y_test, y_score[:,1])\n",
    "\n",
    "# plot ROC curve\n",
    "fig = plt.figure(figsize=(6, 6))\n",
    "# Plot the diagonal 50% line\n",
    "plt.plot([0, 1], [0, 1], 'k--')\n",
    "# Plot the FPR and TPR achieved by our model\n",
    "plt.plot(fpr, tpr)\n",
    "plt.xlabel('False Positive Rate')\n",
    "plt.ylabel('True Positive Rate')\n",
    "plt.title('ROC Curve')\n",
    "plt.show()"
   ]
  },
  {
   "cell_type": "markdown",
   "id": "df5ea0e8",
   "metadata": {},
   "source": [
    "### RANDOM FOREST ALGORITHM\n",
    "We can see the our matrics when Logistic regression was used. Now we will be using RandomForest to see if it will perform better\n",
    "than Logistic Regression"
   ]
  },
  {
   "cell_type": "code",
   "execution_count": 43,
   "id": "c228b222",
   "metadata": {},
   "outputs": [
    {
     "name": "stdout",
     "output_type": "stream",
     "text": [
      "Pipeline(steps=[('processor',\n",
      "                 ColumnTransformer(transformers=[('num',\n",
      "                                                  Pipeline(steps=[('scaler',\n",
      "                                                                   StandardScaler())]),\n",
      "                                                  [0, 1, 2, 3, 4, 5, 6]),\n",
      "                                                 ('cat',\n",
      "                                                  Pipeline(steps=[('onehot',\n",
      "                                                                   OneHotEncoder(handle_unknown='ignore'))]),\n",
      "                                                  [7])])),\n",
      "                ('logregressor', RandomForestClassifier())])\n",
      "Confusion Matrix:\n",
      " [[1968   69]\n",
      " [ 120  843]] \n",
      "\n",
      "Accuracy: 0.937\n",
      "Overall Precision: 0.9243421052631579\n",
      "Overall Recall: 0.8753894080996885\n",
      "\n",
      "AUC: 0.9837530605909063\n"
     ]
    }
   ],
   "source": [
    "from sklearn.ensemble import RandomForestClassifier\n",
    "\n",
    "# Create preprocessing and training pipeline\n",
    "pipeline = Pipeline(steps=[('processor', processor),\n",
    "                           ('logregressor', RandomForestClassifier(n_estimators=100))])\n",
    "\n",
    "# fit the pipeline to train a random forest model on the training set\n",
    "model = pipeline.fit(X_train, (y_train))\n",
    "print (model)\n",
    "\n",
    "#Let's look at the performance metrics for the new model.\n",
    "\n",
    "\n",
    "predictions = model.predict(X_test)\n",
    "y_scores = model.predict_proba(X_test)\n",
    "cm = confusion_matrix(y_test, predictions)\n",
    "print ('Confusion Matrix:\\n',cm, '\\n')\n",
    "print('Accuracy:', accuracy_score(y_test, predictions))\n",
    "print(\"Overall Precision:\",precision_score(y_test, predictions))\n",
    "print(\"Overall Recall:\",recall_score(y_test, predictions))\n",
    "auc = roc_auc_score(y_test,y_scores[:,1])\n",
    "print('\\nAUC: ' + str(auc))"
   ]
  },
  {
   "cell_type": "code",
   "execution_count": 44,
   "id": "7dc32116",
   "metadata": {},
   "outputs": [
    {
     "data": {
      "image/png": "[encoded data removed]",
      "text/plain": [
       "<Figure size 432x432 with 1 Axes>"
      ]
     },
     "metadata": {
      "needs_background": "light"
     },
     "output_type": "display_data"
    }
   ],
   "source": [
    "fpr, tpr , threshold = roc_curve(y_test, y_scores[:,1])\n",
    "\n",
    "# plot ROC curve\n",
    "fig = plt.figure(figsize=(6, 6))\n",
    "# Plot the diagonal 50% line\n",
    "plt.plot([0, 1], [0, 1], 'k--')\n",
    "# Plot the FPR and TPR achieved by our model\n",
    "plt.plot(fpr, tpr)\n",
    "plt.xlabel('False Positive Rate')\n",
    "plt.ylabel('True Positive Rate')\n",
    "plt.title('ROC Curve')\n",
    "plt.show()"
   ]
  },
  {
   "cell_type": "markdown",
   "id": "9a28f270",
   "metadata": {},
   "source": [
    "We can see that Random Forest perform better than the Logistic Regression in terms of all the metrics used, other algorithm can be used to checkmate \n",
    "the two that was use for better performance evaluatuion"
   ]
  },
  {
   "cell_type": "code",
   "execution_count": 45,
   "id": "fbc381c7",
   "metadata": {},
   "outputs": [],
   "source": [
    "#save and load the model\n",
    "import joblib\n",
    "filename = 'Diabetics.pkl'\n",
    "joblib.dump(model, filename)\n",
    "model = joblib.load(filename)"
   ]
  },
  {
   "cell_type": "code",
   "execution_count": 46,
   "id": "0ec0923d",
   "metadata": {},
   "outputs": [
    {
     "name": "stdout",
     "output_type": "stream",
     "text": [
      "New sample: [array([ 1.      , 85.      , 59.      , 27.      , 35.      , 42.604536,\n",
      "        0.549542, 22.      ]), array([7.0000000e+00, 1.1500000e+02, 4.7000000e+01, 5.2000000e+01,\n",
      "       3.5000000e+01, 4.1511523e+01, 7.9019000e-02, 2.3000000e+01]), array([  9.      , 103.      ,  78.      ,  25.      , 304.      ,\n",
      "        29.582192,   1.28287 ,  43.      ]), array([ 8.      , 80.      , 95.      , 33.      , 24.      , 26.624929,\n",
      "        0.443947, 53.      ]), array([1.0000000e+00, 1.5600000e+02, 5.3000000e+01, 1.5000000e+01,\n",
      "       2.2600000e+02, 2.9786192e+01, 2.0382400e-01, 4.1000000e+01])]\n"
     ]
    }
   ],
   "source": [
    "#create a new data\n",
    "X_new = np.array([[1,85,59,27,35,42.604536,0.549542,22],\n",
    "                 [7,115,47,52,35,41.511523,0.079019,23],\n",
    "                 [9,103,78,25,304,29.582192,1.282870,43],\n",
    "                 [8,80,95,33,24,26.624929,0.443947,53],\n",
    "                 [1,156,53,15,226,29.786192,0.203824,41],\n",
    "                  [8,117,39,32,164,21.230996,0.089363,25]\n",
    "                 ])\n",
    "print ('New sample: {}'.format(list(X_new[:5])))"
   ]
  },
  {
   "cell_type": "code",
   "execution_count": 47,
   "id": "b10d4d11",
   "metadata": {},
   "outputs": [
    {
     "name": "stdout",
     "output_type": "stream",
     "text": [
      "[0 0 1 0 0 0]\n"
     ]
    }
   ],
   "source": [
    "#we can now check our new prediction base on input data\n",
    "pred = model.predict(X_new)\n",
    "print(pred)"
   ]
  },
  {
   "cell_type": "markdown",
   "id": "7f75ebce",
   "metadata": {},
   "source": [
    "### Summary\n",
    "You can see how i model algorithm to predict possiblies of a patient having and not daibetes using two different Algorithm, \n",
    "and performance of the algorithms before and after introducing scalling. \n",
    "In conclusion, it is good to always apply scalling, several algorithm can be use as well that perform better that the ones used \n",
    "in the project."
   ]
  }
 ],
 "metadata": {
  "kernelspec": {
   "display_name": "Python 3 (ipykernel)",
   "language": "python",
   "name": "python3"
  },
  "language_info": {
   "codemirror_mode": {
    "name": "ipython",
    "version": 3
   },
   "file_extension": ".py",
   "mimetype": "text/x-python",
   "name": "python",
   "nbconvert_exporter": "python",
   "pygments_lexer": "ipython3",
   "version": "3.9.5"
  }
 },
 "nbformat": 4,
 "nbformat_minor": 5
}
